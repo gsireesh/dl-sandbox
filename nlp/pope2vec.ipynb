{
 "cells": [
  {
   "cell_type": "code",
   "execution_count": null,
   "metadata": {
    "collapsed": true
   },
   "outputs": [],
   "source": [
    "from nltk.tokenize import TreebankWordTokenizer\n",
    "from nltk.probability import FreqDist\n",
    "import tensorflow as tf\n",
    "import numpy as np\n",
    "import re\n",
    "import string"
   ]
  },
  {
   "cell_type": "markdown",
   "metadata": {},
   "source": [
    "# HABEAS"
   ]
  },
  {
   "cell_type": "code",
   "execution_count": null,
   "metadata": {
    "collapsed": true
   },
   "outputs": [],
   "source": [
    "with open('iliad_pope.txt', 'r') as f:\n",
    "    iliad_raw = f.readlines()"
   ]
  },
  {
   "cell_type": "code",
   "execution_count": null,
   "metadata": {
    "collapsed": true
   },
   "outputs": [],
   "source": [
    "line_regex = re.compile('  [a-zA-Z]')\n",
    "footnote_regex = re.compile('\\(\\d+\\)')\n",
    "iliad_text_list = [footnote_regex.sub('',line.strip()) for line in iliad_raw if line_regex.match(line)]\n",
    "start_ind = iliad_text_list.index(\"Achilles' wrath, to Greece the direful spring\")\n",
    "iliad_text_list = iliad_text_list[start_ind:-1]\n",
    "iliad_text = ' '.join(iliad_text_list).translate(str.maketrans('', '', string.punctuation))\n",
    "iliad_tokens = [token.lower() for token in TreebankWordTokenizer().tokenize(iliad_text)]"
   ]
  },
  {
   "cell_type": "markdown",
   "metadata": {},
   "source": [
    "# #PHRASING"
   ]
  },
  {
   "cell_type": "markdown",
   "metadata": {},
   "source": [
    "The use of phrase detection code didn't really pan out - we ended up with valid phrases scoring somewhere in the middle of the distribution. Going forward without using them."
   ]
  },
  {
   "cell_type": "raw",
   "metadata": {},
   "source": [
    "word_freq = FreqDist(iliad_tokens)\n",
    "bigrams = ['{}_{}'.format(iliad_tokens[i], iliad_tokens[i+1]) for i in range(len(iliad_tokens) -1)]\n",
    "bigram_freq = FreqDist(bigrams)\n",
    "_, min_bigram_freq = 0, 5# bigram_freq.most_common()[-1]\n",
    "\n",
    "valid_bigrams = []\n",
    "threshold = 100\n",
    "\n",
    "for bigram,pab in bigram_freq.items():\n",
    "    a, b = bigram.split('_')\n",
    "    pa = word_freq[a]\n",
    "    pb = word_freq[b]\n",
    "    score = (pab - min_bigram_freq) /  (pa * pb) * len(iliad_tokens)\n",
    "    if score > threshold:\n",
    "        print(str((bigram, bigram_freq[bigram], score)))\n",
    "        valid_bigrams.append(bigram)\n",
    "    "
   ]
  },
  {
   "cell_type": "markdown",
   "metadata": {},
   "source": [
    "# FEED ME, SEYMOUR"
   ]
  },
  {
   "cell_type": "code",
   "execution_count": 1,
   "metadata": {},
   "outputs": [
    {
     "ename": "NameError",
     "evalue": "name 'iliad_tokens' is not defined",
     "output_type": "error",
     "traceback": [
      "\u001b[1;31m---------------------------------------------------------------------------\u001b[0m",
      "\u001b[1;31mNameError\u001b[0m                                 Traceback (most recent call last)",
      "\u001b[1;32m<ipython-input-1-fe88ab98dafb>\u001b[0m in \u001b[0;36m<module>\u001b[1;34m()\u001b[0m\n\u001b[1;32m----> 1\u001b[1;33m \u001b[0mvocabulary\u001b[0m \u001b[1;33m=\u001b[0m \u001b[0msorted\u001b[0m\u001b[1;33m(\u001b[0m\u001b[0mset\u001b[0m\u001b[1;33m(\u001b[0m\u001b[0miliad_tokens\u001b[0m\u001b[1;33m)\u001b[0m\u001b[1;33m)\u001b[0m\u001b[1;33m\u001b[0m\u001b[0m\n\u001b[0m\u001b[0;32m      2\u001b[0m \u001b[0mindices\u001b[0m \u001b[1;33m=\u001b[0m \u001b[1;33m{\u001b[0m\u001b[0mword\u001b[0m \u001b[1;33m:\u001b[0m \u001b[0mindex\u001b[0m \u001b[1;32mfor\u001b[0m \u001b[1;33m(\u001b[0m\u001b[0mindex\u001b[0m\u001b[1;33m,\u001b[0m \u001b[0mword\u001b[0m\u001b[1;33m)\u001b[0m \u001b[1;32min\u001b[0m \u001b[0menumerate\u001b[0m\u001b[1;33m(\u001b[0m\u001b[0mvocabulary\u001b[0m\u001b[1;33m)\u001b[0m\u001b[1;33m}\u001b[0m\u001b[1;33m\u001b[0m\u001b[0m\n\u001b[0;32m      3\u001b[0m \u001b[0mvocab_size\u001b[0m \u001b[1;33m=\u001b[0m \u001b[0mlen\u001b[0m\u001b[1;33m(\u001b[0m\u001b[0mvocabulary\u001b[0m\u001b[1;33m)\u001b[0m\u001b[1;33m\u001b[0m\u001b[0m\n",
      "\u001b[1;31mNameError\u001b[0m: name 'iliad_tokens' is not defined"
     ]
    }
   ],
   "source": [
    "vocabulary = sorted(set(iliad_tokens))\n",
    "indices = {word : index for (index, word) in enumerate(vocabulary)}\n",
    "vocab_size = len(vocabulary)"
   ]
  },
  {
   "cell_type": "code",
   "execution_count": 3,
   "metadata": {},
   "outputs": [],
   "source": [
    "WINDOW_SIZE = 5\n",
    "\n",
    "def generate_skipgrams(tokens, window_size=WINDOW_SIZE):\n",
    "    for i,token in enumerate(tokens):\n",
    "        for j in range(i - window_size, i + window_size +1):\n",
    "            if j not in range(len(tokens)) or j == i : \n",
    "                continue\n",
    "            yield (tokens[i], tokens[j])\n",
    "\n",
    "def skipgrams_to_onehot(index_dict, skipgram):\n",
    "    return (index_dict[skipgram[0]], index_dict[skipgram[1]])"
   ]
  },
  {
   "cell_type": "markdown",
   "metadata": {},
   "source": [
    "# LET'S GET OUR LE CORBUSIER ON"
   ]
  },
  {
   "cell_type": "code",
   "execution_count": null,
   "metadata": {
    "collapsed": true
   },
   "outputs": [],
   "source": [
    "EMBED_SIZE = 300\n",
    "\n",
    "X = tf.placeholder(tf.float32, [vocab_size,1])\n",
    "y = tf.placeholder(tf.float32, [vocab_size,1])\n",
    "\n",
    "W_embed = tf.Variable(tf.truncated_normal([EMBED_SIZE, vocab_size]))\n",
    "b_embed = tf.Variable(tf.truncated_normal([EMBED_SIZE,1]))\n",
    "\n",
    "W_lookup = tf.Variable(tf.truncated_normal([vocab_size, EMBED_SIZE]))\n",
    "b_lookup = tf.Variable(tf.truncated_normal([vocab_size]))\n",
    "\n",
    "pope_vec = tf.matmul(W_embed,X) + b_embed\n",
    "out_vec = tf.nn.softmax(tf.matmul(W_lookup,pope_vec) + b_lookup)"
   ]
  }
 ],
 "metadata": {
  "kernelspec": {
   "display_name": "Python 3",
   "language": "python",
   "name": "python3"
  },
  "language_info": {
   "codemirror_mode": {
    "name": "ipython",
    "version": 3
   },
   "file_extension": ".py",
   "mimetype": "text/x-python",
   "name": "python",
   "nbconvert_exporter": "python",
   "pygments_lexer": "ipython3",
   "version": "3.5.3"
  }
 },
 "nbformat": 4,
 "nbformat_minor": 2
}
